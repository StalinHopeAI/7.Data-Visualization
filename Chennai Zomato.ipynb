{
 "cells": [
  {
   "cell_type": "code",
   "execution_count": 1,
   "id": "68c98fde-d743-4aa0-9de9-662cb55d1f94",
   "metadata": {},
   "outputs": [],
   "source": [
    "import pandas as pd\n",
    "import numpy as np\n",
    "import matplotlib.pyplot as plt \n",
    "import seaborn as sns\n",
    "import plotly.express as px\n",
    "import plotly.io as pio"
   ]
  },
  {
   "cell_type": "code",
   "execution_count": 2,
   "id": "ba8dcec0-a325-48fc-9329-f4316e022875",
   "metadata": {},
   "outputs": [],
   "source": [
    "raw_df=pd.read_csv(\"Zomato Chennai Listing 2020.csv\")"
   ]
  },
  {
   "cell_type": "code",
   "execution_count": 3,
   "id": "436268c9-b79e-44f4-9c14-cc7b3b31dbfb",
   "metadata": {},
   "outputs": [
    {
     "data": {
      "text/html": [
       "<div>\n",
       "<style scoped>\n",
       "    .dataframe tbody tr th:only-of-type {\n",
       "        vertical-align: middle;\n",
       "    }\n",
       "\n",
       "    .dataframe tbody tr th {\n",
       "        vertical-align: top;\n",
       "    }\n",
       "\n",
       "    .dataframe thead th {\n",
       "        text-align: right;\n",
       "    }\n",
       "</style>\n",
       "<table border=\"1\" class=\"dataframe\">\n",
       "  <thead>\n",
       "    <tr style=\"text-align: right;\">\n",
       "      <th></th>\n",
       "      <th>Zomato URL</th>\n",
       "      <th>Name of Restaurant</th>\n",
       "      <th>Address</th>\n",
       "      <th>Location</th>\n",
       "      <th>Cuisine</th>\n",
       "      <th>Top Dishes</th>\n",
       "      <th>Price for 2</th>\n",
       "      <th>Dining Rating</th>\n",
       "      <th>Dining Rating Count</th>\n",
       "      <th>Delivery Rating</th>\n",
       "      <th>Delivery Rating Count</th>\n",
       "      <th>Features</th>\n",
       "    </tr>\n",
       "  </thead>\n",
       "  <tbody>\n",
       "    <tr>\n",
       "      <th>0</th>\n",
       "      <td>https://www.zomato.com/chennai/yaa-mohaideen-b...</td>\n",
       "      <td>Yaa Mohaideen Briyani</td>\n",
       "      <td>336 &amp; 338, Main Road, Pallavaram, Chennai</td>\n",
       "      <td>Pallavaram</td>\n",
       "      <td>['Biryani']</td>\n",
       "      <td>['Bread Halwa', ' Chicken 65', ' Mutton Biryan...</td>\n",
       "      <td>500.0</td>\n",
       "      <td>4.3</td>\n",
       "      <td>1500</td>\n",
       "      <td>4.3</td>\n",
       "      <td>9306</td>\n",
       "      <td>['Home Delivery', 'Indoor Seating']</td>\n",
       "    </tr>\n",
       "    <tr>\n",
       "      <th>1</th>\n",
       "      <td>https://www.zomato.com/chennai/sukkubhai-biriy...</td>\n",
       "      <td>Sukkubhai Biriyani</td>\n",
       "      <td>New 14, Old 11/3Q, Railway Station Road, MKN ...</td>\n",
       "      <td>Alandur</td>\n",
       "      <td>['Biryani', ' North Indian', ' Mughlai', ' Des...</td>\n",
       "      <td>['Beef Biryani', ' Beef Fry', ' Paratha', ' Pa...</td>\n",
       "      <td>1000.0</td>\n",
       "      <td>4.4</td>\n",
       "      <td>3059</td>\n",
       "      <td>4.1</td>\n",
       "      <td>39200</td>\n",
       "      <td>['Home Delivery', 'Free Parking', 'Table booki...</td>\n",
       "    </tr>\n",
       "    <tr>\n",
       "      <th>2</th>\n",
       "      <td>https://www.zomato.com/chennai/ss-hyderabad-bi...</td>\n",
       "      <td>SS Hyderabad Biryani</td>\n",
       "      <td>98/339, Arcot Road, Opposite Gokulam Chit Fun...</td>\n",
       "      <td>Kodambakkam</td>\n",
       "      <td>['Biryani', ' North Indian', ' Chinese', ' Ara...</td>\n",
       "      <td>['Brinjal Curry', ' Tandoori Chicken', ' Chick...</td>\n",
       "      <td>500.0</td>\n",
       "      <td>4.3</td>\n",
       "      <td>1361</td>\n",
       "      <td>4.4</td>\n",
       "      <td>10500</td>\n",
       "      <td>['Home Delivery', 'Indoor Seating']</td>\n",
       "    </tr>\n",
       "    <tr>\n",
       "      <th>3</th>\n",
       "      <td>https://www.zomato.com/chennai/kfc-perambur</td>\n",
       "      <td>KFC</td>\n",
       "      <td>10, Periyar Nagar, 70 Feet Road, Near Sheeba ...</td>\n",
       "      <td>Perambur</td>\n",
       "      <td>['Burger', ' Fast Food', ' Finger Food', ' Bev...</td>\n",
       "      <td>['Zinger Burger']</td>\n",
       "      <td>500.0</td>\n",
       "      <td>4.0</td>\n",
       "      <td>1101</td>\n",
       "      <td>4.0</td>\n",
       "      <td>11200</td>\n",
       "      <td>['Home Delivery', 'Free Parking', 'Card Upon D...</td>\n",
       "    </tr>\n",
       "    <tr>\n",
       "      <th>4</th>\n",
       "      <td>https://www.zomato.com/chennai/tasty-kitchen-p...</td>\n",
       "      <td>Tasty Kitchen</td>\n",
       "      <td>135B, SRP Colony, Peravallur, Near Perambur, ...</td>\n",
       "      <td>Perambur</td>\n",
       "      <td>['Chinese', ' Biryani', ' North Indian', ' Che...</td>\n",
       "      <td>['Mutton Biryani', ' Chicken Rice', ' Tomato R...</td>\n",
       "      <td>450.0</td>\n",
       "      <td>4.2</td>\n",
       "      <td>617</td>\n",
       "      <td>4.1</td>\n",
       "      <td>22400</td>\n",
       "      <td>['Home Delivery', 'Indoor Seating']</td>\n",
       "    </tr>\n",
       "  </tbody>\n",
       "</table>\n",
       "</div>"
      ],
      "text/plain": [
       "                                          Zomato URL     Name of Restaurant  \\\n",
       "0  https://www.zomato.com/chennai/yaa-mohaideen-b...  Yaa Mohaideen Briyani   \n",
       "1  https://www.zomato.com/chennai/sukkubhai-biriy...     Sukkubhai Biriyani   \n",
       "2  https://www.zomato.com/chennai/ss-hyderabad-bi...   SS Hyderabad Biryani   \n",
       "3        https://www.zomato.com/chennai/kfc-perambur                    KFC   \n",
       "4  https://www.zomato.com/chennai/tasty-kitchen-p...          Tasty Kitchen   \n",
       "\n",
       "                                             Address     Location  \\\n",
       "0          336 & 338, Main Road, Pallavaram, Chennai   Pallavaram   \n",
       "1   New 14, Old 11/3Q, Railway Station Road, MKN ...      Alandur   \n",
       "2   98/339, Arcot Road, Opposite Gokulam Chit Fun...  Kodambakkam   \n",
       "3   10, Periyar Nagar, 70 Feet Road, Near Sheeba ...     Perambur   \n",
       "4   135B, SRP Colony, Peravallur, Near Perambur, ...     Perambur   \n",
       "\n",
       "                                             Cuisine  \\\n",
       "0                                        ['Biryani']   \n",
       "1  ['Biryani', ' North Indian', ' Mughlai', ' Des...   \n",
       "2  ['Biryani', ' North Indian', ' Chinese', ' Ara...   \n",
       "3  ['Burger', ' Fast Food', ' Finger Food', ' Bev...   \n",
       "4  ['Chinese', ' Biryani', ' North Indian', ' Che...   \n",
       "\n",
       "                                          Top Dishes  Price for 2  \\\n",
       "0  ['Bread Halwa', ' Chicken 65', ' Mutton Biryan...        500.0   \n",
       "1  ['Beef Biryani', ' Beef Fry', ' Paratha', ' Pa...       1000.0   \n",
       "2  ['Brinjal Curry', ' Tandoori Chicken', ' Chick...        500.0   \n",
       "3                                  ['Zinger Burger']        500.0   \n",
       "4  ['Mutton Biryani', ' Chicken Rice', ' Tomato R...        450.0   \n",
       "\n",
       "   Dining Rating Dining Rating Count  Delivery Rating Delivery Rating Count  \\\n",
       "0            4.3                1500              4.3                  9306   \n",
       "1            4.4                3059              4.1                 39200   \n",
       "2            4.3                1361              4.4                 10500   \n",
       "3            4.0                1101              4.0                 11200   \n",
       "4            4.2                 617              4.1                 22400   \n",
       "\n",
       "                                            Features  \n",
       "0                ['Home Delivery', 'Indoor Seating']  \n",
       "1  ['Home Delivery', 'Free Parking', 'Table booki...  \n",
       "2                ['Home Delivery', 'Indoor Seating']  \n",
       "3  ['Home Delivery', 'Free Parking', 'Card Upon D...  \n",
       "4                ['Home Delivery', 'Indoor Seating']  "
      ]
     },
     "execution_count": 3,
     "metadata": {},
     "output_type": "execute_result"
    }
   ],
   "source": [
    "raw_df.head()"
   ]
  },
  {
   "cell_type": "code",
   "execution_count": 4,
   "id": "8942ac42-581e-48b9-8059-d5f1fb3e1b27",
   "metadata": {},
   "outputs": [
    {
     "data": {
      "text/plain": [
       "(12032, 12)"
      ]
     },
     "execution_count": 4,
     "metadata": {},
     "output_type": "execute_result"
    }
   ],
   "source": [
    "raw_df.shape"
   ]
  },
  {
   "cell_type": "code",
   "execution_count": 5,
   "id": "f7f0b246-98de-4fbb-ad9d-8f4a166d0eb7",
   "metadata": {},
   "outputs": [
    {
     "name": "stdout",
     "output_type": "stream",
     "text": [
      "<class 'pandas.core.frame.DataFrame'>\n",
      "RangeIndex: 12032 entries, 0 to 12031\n",
      "Data columns (total 12 columns):\n",
      " #   Column                 Non-Null Count  Dtype  \n",
      "---  ------                 --------------  -----  \n",
      " 0   Zomato URL             12032 non-null  object \n",
      " 1   Name of Restaurant     12032 non-null  object \n",
      " 2   Address                12032 non-null  object \n",
      " 3   Location               12032 non-null  object \n",
      " 4   Cuisine                12032 non-null  object \n",
      " 5   Top Dishes             12032 non-null  object \n",
      " 6   Price for 2            12032 non-null  float64\n",
      " 7   Dining Rating          6681 non-null   float64\n",
      " 8   Dining Rating Count    11812 non-null  object \n",
      " 9   Delivery Rating        6181 non-null   float64\n",
      " 10  Delivery Rating Count  11812 non-null  object \n",
      " 11  Features               12032 non-null  object \n",
      "dtypes: float64(3), object(9)\n",
      "memory usage: 1.1+ MB\n"
     ]
    }
   ],
   "source": [
    "raw_df.info()"
   ]
  },
  {
   "cell_type": "code",
   "execution_count": 6,
   "id": "ad247571-286d-477e-96ec-a85315859ca5",
   "metadata": {},
   "outputs": [
    {
     "data": {
      "text/html": [
       "<div>\n",
       "<style scoped>\n",
       "    .dataframe tbody tr th:only-of-type {\n",
       "        vertical-align: middle;\n",
       "    }\n",
       "\n",
       "    .dataframe tbody tr th {\n",
       "        vertical-align: top;\n",
       "    }\n",
       "\n",
       "    .dataframe thead th {\n",
       "        text-align: right;\n",
       "    }\n",
       "</style>\n",
       "<table border=\"1\" class=\"dataframe\">\n",
       "  <thead>\n",
       "    <tr style=\"text-align: right;\">\n",
       "      <th></th>\n",
       "      <th>Price for 2</th>\n",
       "      <th>Dining Rating</th>\n",
       "      <th>Delivery Rating</th>\n",
       "    </tr>\n",
       "  </thead>\n",
       "  <tbody>\n",
       "    <tr>\n",
       "      <th>count</th>\n",
       "      <td>12032.000000</td>\n",
       "      <td>6681.000000</td>\n",
       "      <td>6181.000000</td>\n",
       "    </tr>\n",
       "    <tr>\n",
       "      <th>mean</th>\n",
       "      <td>397.611370</td>\n",
       "      <td>3.387756</td>\n",
       "      <td>3.805290</td>\n",
       "    </tr>\n",
       "    <tr>\n",
       "      <th>std</th>\n",
       "      <td>332.045938</td>\n",
       "      <td>0.558181</td>\n",
       "      <td>0.374213</td>\n",
       "    </tr>\n",
       "    <tr>\n",
       "      <th>min</th>\n",
       "      <td>40.000000</td>\n",
       "      <td>0.300000</td>\n",
       "      <td>0.300000</td>\n",
       "    </tr>\n",
       "    <tr>\n",
       "      <th>25%</th>\n",
       "      <td>200.000000</td>\n",
       "      <td>3.100000</td>\n",
       "      <td>3.600000</td>\n",
       "    </tr>\n",
       "    <tr>\n",
       "      <th>50%</th>\n",
       "      <td>300.000000</td>\n",
       "      <td>3.500000</td>\n",
       "      <td>3.900000</td>\n",
       "    </tr>\n",
       "    <tr>\n",
       "      <th>75%</th>\n",
       "      <td>450.000000</td>\n",
       "      <td>3.800000</td>\n",
       "      <td>4.000000</td>\n",
       "    </tr>\n",
       "    <tr>\n",
       "      <th>max</th>\n",
       "      <td>5000.000000</td>\n",
       "      <td>4.900000</td>\n",
       "      <td>4.700000</td>\n",
       "    </tr>\n",
       "  </tbody>\n",
       "</table>\n",
       "</div>"
      ],
      "text/plain": [
       "        Price for 2  Dining Rating  Delivery Rating\n",
       "count  12032.000000    6681.000000      6181.000000\n",
       "mean     397.611370       3.387756         3.805290\n",
       "std      332.045938       0.558181         0.374213\n",
       "min       40.000000       0.300000         0.300000\n",
       "25%      200.000000       3.100000         3.600000\n",
       "50%      300.000000       3.500000         3.900000\n",
       "75%      450.000000       3.800000         4.000000\n",
       "max     5000.000000       4.900000         4.700000"
      ]
     },
     "execution_count": 6,
     "metadata": {},
     "output_type": "execute_result"
    }
   ],
   "source": [
    "raw_df.describe()"
   ]
  },
  {
   "cell_type": "code",
   "execution_count": 7,
   "id": "fde4acb8-829d-4aa2-b5c7-4cb66c4ff1e4",
   "metadata": {},
   "outputs": [],
   "source": [
    "raw_df.drop(['Zomato URL'], axis = 1, inplace = True)"
   ]
  },
  {
   "cell_type": "code",
   "execution_count": 8,
   "id": "2bdb7ed3-0a70-4cd9-997f-e2f3c45b5999",
   "metadata": {},
   "outputs": [
    {
     "data": {
      "text/html": [
       "<div>\n",
       "<style scoped>\n",
       "    .dataframe tbody tr th:only-of-type {\n",
       "        vertical-align: middle;\n",
       "    }\n",
       "\n",
       "    .dataframe tbody tr th {\n",
       "        vertical-align: top;\n",
       "    }\n",
       "\n",
       "    .dataframe thead th {\n",
       "        text-align: right;\n",
       "    }\n",
       "</style>\n",
       "<table border=\"1\" class=\"dataframe\">\n",
       "  <thead>\n",
       "    <tr style=\"text-align: right;\">\n",
       "      <th></th>\n",
       "      <th>Name of Restaurant</th>\n",
       "      <th>Address</th>\n",
       "      <th>Location</th>\n",
       "      <th>Cuisine</th>\n",
       "      <th>Top Dishes</th>\n",
       "      <th>Price for 2</th>\n",
       "      <th>Dining Rating</th>\n",
       "      <th>Dining Rating Count</th>\n",
       "      <th>Delivery Rating</th>\n",
       "      <th>Delivery Rating Count</th>\n",
       "      <th>Features</th>\n",
       "    </tr>\n",
       "  </thead>\n",
       "  <tbody>\n",
       "    <tr>\n",
       "      <th>0</th>\n",
       "      <td>Yaa Mohaideen Briyani</td>\n",
       "      <td>336 &amp; 338, Main Road, Pallavaram, Chennai</td>\n",
       "      <td>Pallavaram</td>\n",
       "      <td>['Biryani']</td>\n",
       "      <td>['Bread Halwa', ' Chicken 65', ' Mutton Biryan...</td>\n",
       "      <td>500.0</td>\n",
       "      <td>4.3</td>\n",
       "      <td>1500</td>\n",
       "      <td>4.3</td>\n",
       "      <td>9306</td>\n",
       "      <td>['Home Delivery', 'Indoor Seating']</td>\n",
       "    </tr>\n",
       "    <tr>\n",
       "      <th>1</th>\n",
       "      <td>Sukkubhai Biriyani</td>\n",
       "      <td>New 14, Old 11/3Q, Railway Station Road, MKN ...</td>\n",
       "      <td>Alandur</td>\n",
       "      <td>['Biryani', ' North Indian', ' Mughlai', ' Des...</td>\n",
       "      <td>['Beef Biryani', ' Beef Fry', ' Paratha', ' Pa...</td>\n",
       "      <td>1000.0</td>\n",
       "      <td>4.4</td>\n",
       "      <td>3059</td>\n",
       "      <td>4.1</td>\n",
       "      <td>39200</td>\n",
       "      <td>['Home Delivery', 'Free Parking', 'Table booki...</td>\n",
       "    </tr>\n",
       "    <tr>\n",
       "      <th>2</th>\n",
       "      <td>SS Hyderabad Biryani</td>\n",
       "      <td>98/339, Arcot Road, Opposite Gokulam Chit Fun...</td>\n",
       "      <td>Kodambakkam</td>\n",
       "      <td>['Biryani', ' North Indian', ' Chinese', ' Ara...</td>\n",
       "      <td>['Brinjal Curry', ' Tandoori Chicken', ' Chick...</td>\n",
       "      <td>500.0</td>\n",
       "      <td>4.3</td>\n",
       "      <td>1361</td>\n",
       "      <td>4.4</td>\n",
       "      <td>10500</td>\n",
       "      <td>['Home Delivery', 'Indoor Seating']</td>\n",
       "    </tr>\n",
       "    <tr>\n",
       "      <th>3</th>\n",
       "      <td>KFC</td>\n",
       "      <td>10, Periyar Nagar, 70 Feet Road, Near Sheeba ...</td>\n",
       "      <td>Perambur</td>\n",
       "      <td>['Burger', ' Fast Food', ' Finger Food', ' Bev...</td>\n",
       "      <td>['Zinger Burger']</td>\n",
       "      <td>500.0</td>\n",
       "      <td>4.0</td>\n",
       "      <td>1101</td>\n",
       "      <td>4.0</td>\n",
       "      <td>11200</td>\n",
       "      <td>['Home Delivery', 'Free Parking', 'Card Upon D...</td>\n",
       "    </tr>\n",
       "    <tr>\n",
       "      <th>4</th>\n",
       "      <td>Tasty Kitchen</td>\n",
       "      <td>135B, SRP Colony, Peravallur, Near Perambur, ...</td>\n",
       "      <td>Perambur</td>\n",
       "      <td>['Chinese', ' Biryani', ' North Indian', ' Che...</td>\n",
       "      <td>['Mutton Biryani', ' Chicken Rice', ' Tomato R...</td>\n",
       "      <td>450.0</td>\n",
       "      <td>4.2</td>\n",
       "      <td>617</td>\n",
       "      <td>4.1</td>\n",
       "      <td>22400</td>\n",
       "      <td>['Home Delivery', 'Indoor Seating']</td>\n",
       "    </tr>\n",
       "  </tbody>\n",
       "</table>\n",
       "</div>"
      ],
      "text/plain": [
       "      Name of Restaurant                                            Address  \\\n",
       "0  Yaa Mohaideen Briyani          336 & 338, Main Road, Pallavaram, Chennai   \n",
       "1     Sukkubhai Biriyani   New 14, Old 11/3Q, Railway Station Road, MKN ...   \n",
       "2   SS Hyderabad Biryani   98/339, Arcot Road, Opposite Gokulam Chit Fun...   \n",
       "3                    KFC   10, Periyar Nagar, 70 Feet Road, Near Sheeba ...   \n",
       "4          Tasty Kitchen   135B, SRP Colony, Peravallur, Near Perambur, ...   \n",
       "\n",
       "      Location                                            Cuisine  \\\n",
       "0   Pallavaram                                        ['Biryani']   \n",
       "1      Alandur  ['Biryani', ' North Indian', ' Mughlai', ' Des...   \n",
       "2  Kodambakkam  ['Biryani', ' North Indian', ' Chinese', ' Ara...   \n",
       "3     Perambur  ['Burger', ' Fast Food', ' Finger Food', ' Bev...   \n",
       "4     Perambur  ['Chinese', ' Biryani', ' North Indian', ' Che...   \n",
       "\n",
       "                                          Top Dishes  Price for 2  \\\n",
       "0  ['Bread Halwa', ' Chicken 65', ' Mutton Biryan...        500.0   \n",
       "1  ['Beef Biryani', ' Beef Fry', ' Paratha', ' Pa...       1000.0   \n",
       "2  ['Brinjal Curry', ' Tandoori Chicken', ' Chick...        500.0   \n",
       "3                                  ['Zinger Burger']        500.0   \n",
       "4  ['Mutton Biryani', ' Chicken Rice', ' Tomato R...        450.0   \n",
       "\n",
       "   Dining Rating Dining Rating Count  Delivery Rating Delivery Rating Count  \\\n",
       "0            4.3                1500              4.3                  9306   \n",
       "1            4.4                3059              4.1                 39200   \n",
       "2            4.3                1361              4.4                 10500   \n",
       "3            4.0                1101              4.0                 11200   \n",
       "4            4.2                 617              4.1                 22400   \n",
       "\n",
       "                                            Features  \n",
       "0                ['Home Delivery', 'Indoor Seating']  \n",
       "1  ['Home Delivery', 'Free Parking', 'Table booki...  \n",
       "2                ['Home Delivery', 'Indoor Seating']  \n",
       "3  ['Home Delivery', 'Free Parking', 'Card Upon D...  \n",
       "4                ['Home Delivery', 'Indoor Seating']  "
      ]
     },
     "execution_count": 8,
     "metadata": {},
     "output_type": "execute_result"
    }
   ],
   "source": [
    "raw_df.head()"
   ]
  },
  {
   "cell_type": "code",
   "execution_count": 9,
   "id": "03c0c0cd-e532-4a1a-a9b1-c21d78dfbb6f",
   "metadata": {},
   "outputs": [
    {
     "data": {
      "text/plain": [
       "Name of Restaurant          0\n",
       "Address                     0\n",
       "Location                    0\n",
       "Cuisine                     0\n",
       "Top Dishes                  0\n",
       "Price for 2                 0\n",
       "Dining Rating            5351\n",
       "Dining Rating Count       220\n",
       "Delivery Rating          5851\n",
       "Delivery Rating Count     220\n",
       "Features                    0\n",
       "dtype: int64"
      ]
     },
     "execution_count": 9,
     "metadata": {},
     "output_type": "execute_result"
    }
   ],
   "source": [
    "raw_df.isna().sum()\n"
   ]
  },
  {
   "cell_type": "code",
   "execution_count": 10,
   "id": "2646f05d-2de6-4d6a-af5d-459f30d3bc1c",
   "metadata": {},
   "outputs": [
    {
     "data": {
      "text/html": [
       "<div>\n",
       "<style scoped>\n",
       "    .dataframe tbody tr th:only-of-type {\n",
       "        vertical-align: middle;\n",
       "    }\n",
       "\n",
       "    .dataframe tbody tr th {\n",
       "        vertical-align: top;\n",
       "    }\n",
       "\n",
       "    .dataframe thead th {\n",
       "        text-align: right;\n",
       "    }\n",
       "</style>\n",
       "<table border=\"1\" class=\"dataframe\">\n",
       "  <thead>\n",
       "    <tr style=\"text-align: right;\">\n",
       "      <th></th>\n",
       "      <th>Name of Restaurant</th>\n",
       "      <th>Address</th>\n",
       "      <th>Location</th>\n",
       "      <th>Cuisine</th>\n",
       "      <th>Top Dishes</th>\n",
       "      <th>Price for 2</th>\n",
       "      <th>Dining Rating</th>\n",
       "      <th>Dining Rating Count</th>\n",
       "      <th>Delivery Rating</th>\n",
       "      <th>Delivery Rating Count</th>\n",
       "      <th>Features</th>\n",
       "    </tr>\n",
       "  </thead>\n",
       "  <tbody>\n",
       "  </tbody>\n",
       "</table>\n",
       "</div>"
      ],
      "text/plain": [
       "Empty DataFrame\n",
       "Columns: [Name of Restaurant, Address, Location, Cuisine, Top Dishes, Price for 2, Dining Rating, Dining Rating Count, Delivery Rating, Delivery Rating Count, Features]\n",
       "Index: []"
      ]
     },
     "execution_count": 10,
     "metadata": {},
     "output_type": "execute_result"
    }
   ],
   "source": [
    "raw_df[raw_df['Price for 2'].isnull()]"
   ]
  },
  {
   "cell_type": "code",
   "execution_count": 11,
   "id": "7be3687c-176f-4fd9-b09c-6d214e4a64b4",
   "metadata": {},
   "outputs": [
    {
     "data": {
      "text/plain": [
       "Price for 2\n",
       "300.0     2014\n",
       "200.0     1970\n",
       "400.0     1343\n",
       "250.0     1115\n",
       "500.0     1064\n",
       "          ... \n",
       "1900.0       1\n",
       "1850.0       1\n",
       "3100.0       1\n",
       "3400.0       1\n",
       "330.0        1\n",
       "Name: count, Length: 64, dtype: int64"
      ]
     },
     "execution_count": 11,
     "metadata": {},
     "output_type": "execute_result"
    }
   ],
   "source": [
    "raw_df['Price for 2'].value_counts()"
   ]
  },
  {
   "cell_type": "code",
   "execution_count": 12,
   "id": "1f623447-7987-4c32-b9a7-e9248877175a",
   "metadata": {},
   "outputs": [
    {
     "data": {
      "text/plain": [
       "Dining Rating\n",
       "3.6    584\n",
       "3.5    553\n",
       "3.7    525\n",
       "3.4    500\n",
       "3.3    463\n",
       "3.8    460\n",
       "3.2    433\n",
       "3.9    379\n",
       "3.1    363\n",
       "2.0    354\n",
       "3.0    302\n",
       "4.0    288\n",
       "2.9    257\n",
       "4.1    221\n",
       "2.8    192\n",
       "4.2    142\n",
       "2.7    138\n",
       "4.3    105\n",
       "2.6     99\n",
       "2.5     71\n",
       "4.4     61\n",
       "2.4     46\n",
       "4.5     36\n",
       "2.3     32\n",
       "2.2     20\n",
       "4.6     17\n",
       "4.7     12\n",
       "2.1     10\n",
       "4.9      7\n",
       "4.8      4\n",
       "1.9      3\n",
       "1.7      2\n",
       "0.3      1\n",
       "1.0      1\n",
       "Name: count, dtype: int64"
      ]
     },
     "execution_count": 12,
     "metadata": {},
     "output_type": "execute_result"
    }
   ],
   "source": [
    "raw_df['Dining Rating'].value_counts()"
   ]
  },
  {
   "cell_type": "code",
   "execution_count": 13,
   "id": "25235d4f-7128-4895-b47c-e88426dc1da1",
   "metadata": {},
   "outputs": [
    {
     "data": {
      "text/plain": [
       "Dining Rating Count\n",
       "Does not offer Dining        2603\n",
       "Not enough Dining Reviews    2528\n",
       "4                             339\n",
       "5                             271\n",
       "6                             248\n",
       "                             ... \n",
       "877                             1\n",
       "897                             1\n",
       "872                             1\n",
       "1197                            1\n",
       "224                             1\n",
       "Name: count, Length: 793, dtype: int64"
      ]
     },
     "execution_count": 13,
     "metadata": {},
     "output_type": "execute_result"
    }
   ],
   "source": [
    "raw_df['Dining Rating Count'].value_counts()"
   ]
  },
  {
   "cell_type": "code",
   "execution_count": 14,
   "id": "8cde2040-9873-4a7e-8966-d25fff642633",
   "metadata": {},
   "outputs": [
    {
     "data": {
      "text/plain": [
       "Delivery Rating\n",
       "3.9    1383\n",
       "3.8     701\n",
       "4.0     570\n",
       "3.7     559\n",
       "4.1     468\n",
       "3.6     465\n",
       "4.2     401\n",
       "3.5     314\n",
       "4.3     277\n",
       "3.4     259\n",
       "3.3     189\n",
       "4.4     128\n",
       "3.2      93\n",
       "3.1      79\n",
       "3.0      63\n",
       "4.5      55\n",
       "2.9      39\n",
       "2.8      26\n",
       "4.6      24\n",
       "2.7      19\n",
       "2.6      17\n",
       "2.5       9\n",
       "0.3       8\n",
       "2.4       7\n",
       "2.3       5\n",
       "2.2       5\n",
       "2.0       5\n",
       "1.8       5\n",
       "4.7       4\n",
       "2.1       2\n",
       "1.6       1\n",
       "1.5       1\n",
       "Name: count, dtype: int64"
      ]
     },
     "execution_count": 14,
     "metadata": {},
     "output_type": "execute_result"
    }
   ],
   "source": [
    "raw_df['Delivery Rating'].value_counts()"
   ]
  },
  {
   "cell_type": "code",
   "execution_count": 15,
   "id": "bfe8d7b1-ea98-4607-a4be-7e7db6a19dcc",
   "metadata": {},
   "outputs": [
    {
     "data": {
      "text/plain": [
       "Delivery Rating Count\n",
       "Not enough Delivery Reviews    3379\n",
       "Does not offer Delivery        2252\n",
       "27                               34\n",
       "32                               30\n",
       "22                               30\n",
       "                               ... \n",
       "7705                              1\n",
       "6374                              1\n",
       "1773                              1\n",
       "3677                              1\n",
       "1617                              1\n",
       "Name: count, Length: 2281, dtype: int64"
      ]
     },
     "execution_count": 15,
     "metadata": {},
     "output_type": "execute_result"
    }
   ],
   "source": [
    "raw_df['Delivery Rating Count'].value_counts()"
   ]
  },
  {
   "cell_type": "code",
   "execution_count": 16,
   "id": "dec59ba7-6770-45fa-9997-04cac36a1c27",
   "metadata": {},
   "outputs": [],
   "source": [
    "#EDA - Exploratory Data Analysis"
   ]
  },
  {
   "cell_type": "code",
   "execution_count": 17,
   "id": "92c2c0c6-b20f-41fb-bce4-e100578841a4",
   "metadata": {},
   "outputs": [],
   "source": [
    "%matplotlib inline\n",
    "import matplotlib.pyplot as plt"
   ]
  },
  {
   "cell_type": "code",
   "execution_count": 18,
   "id": "61e22665-d347-4601-a54c-b58810205863",
   "metadata": {},
   "outputs": [
    {
     "ename": "NameError",
     "evalue": "name 'plot' is not defined",
     "output_type": "error",
     "traceback": [
      "\u001b[1;31m---------------------------------------------------------------------------\u001b[0m",
      "\u001b[1;31mNameError\u001b[0m                                 Traceback (most recent call last)",
      "Cell \u001b[1;32mIn[18], line 2\u001b[0m\n\u001b[0;32m      1\u001b[0m raw_df\u001b[38;5;241m.\u001b[39mhist(bins\u001b[38;5;241m=\u001b[39m\u001b[38;5;241m50\u001b[39m, figsize\u001b[38;5;241m=\u001b[39m(\u001b[38;5;241m20\u001b[39m,\u001b[38;5;241m15\u001b[39m))\n\u001b[1;32m----> 2\u001b[0m plot\u001b[38;5;241m.\u001b[39mshow()\n",
      "\u001b[1;31mNameError\u001b[0m: name 'plot' is not defined"
     ]
    },
    {
     "data": {
      "image/png": "[encoded data removed]",
      "text/plain": [
       "<Figure size 2000x1500 with 4 Axes>"
      ]
     },
     "metadata": {},
     "output_type": "display_data"
    }
   ],
   "source": [
    "raw_df.hist(bins=50, figsize=(20,15))\n",
    "plot.show()\n"
   ]
  },
  {
   "cell_type": "code",
   "execution_count": null,
   "id": "5d8ce0a5-1a80-4ad7-bc6e-768e9fe8a0d8",
   "metadata": {},
   "outputs": [],
   "source": [
    "wrong_data = raw_df[\"Price for 2\"] == 'Price for 2'\n",
    "raw_df[wrong_data]"
   ]
  },
  {
   "cell_type": "code",
   "execution_count": null,
   "id": "4a2a3df6-2f0d-48e2-9f7f-502bec2a1586",
   "metadata": {},
   "outputs": [],
   "source": [
    "raw_df = raw_df[~wrong_data]"
   ]
  },
  {
   "cell_type": "code",
   "execution_count": null,
   "id": "41f12af1-957b-48dd-b599-c5b8b952d131",
   "metadata": {},
   "outputs": [],
   "source": [
    "# Missing Values\n",
    "percent_missing = raw_df.isnull().sum() * 100 / len(raw_df)\n",
    "missing_values = pd.DataFrame({'percent_missing': percent_missing})\n",
    "missing_values.sort_values(by ='percent_missing' , ascending=False)"
   ]
  },
  {
   "cell_type": "code",
   "execution_count": null,
   "id": "b79ceba2-9f35-4371-9ed0-ba71a078570e",
   "metadata": {},
   "outputs": [],
   "source": [
    "# Single values\n",
    "columns_to_check = ['Price for 2','Dining Rating','Dining Rating Count','Delivery Rating','Delivery Rating Count']  # Specify the columns you want to check\n",
    "single_value_rows =raw_df[raw_df[columns_to_check].nunique(axis=1) == 1].index\n",
    "print(raw_df.drop(index=single_value_rows, inplace=True))\n"
   ]
  },
  {
   "cell_type": "code",
   "execution_count": null,
   "id": "f6aaa80a-da80-4115-aaa3-c08df016df7b",
   "metadata": {},
   "outputs": [],
   "source": [
    "# Remove Columns That Have A Low Variance\n",
    "var_threshold = 0.01  # Set your variance threshold here\n",
    "numeric_columns = raw_df.select_dtypes(include=['number']).columns\n",
    "low_variance_columns = raw_df[numeric_columns].columns[raw_df[numeric_columns].var() < var_threshold]\n",
    "print(raw_df.drop(columns=low_variance_columns, inplace=True))\n"
   ]
  },
  {
   "cell_type": "code",
   "execution_count": null,
   "id": "053efbbc-cf73-4e6c-abee-c927766838c2",
   "metadata": {},
   "outputs": [],
   "source": [
    "# show duplicates\n",
    "duplicate_rows = raw_df.duplicated()\n",
    "print(\"Duplicate Rows:\")\n",
    "print(raw_df[duplicate_rows])"
   ]
  },
  {
   "cell_type": "code",
   "execution_count": null,
   "id": "caeca863-4038-4c9d-9a5e-241d6600413a",
   "metadata": {},
   "outputs": [],
   "source": [
    "print(raw_df.drop_duplicates(inplace=True))"
   ]
  },
  {
   "cell_type": "code",
   "execution_count": null,
   "id": "2842a5f7-c2dd-452c-8551-f28815f8dba9",
   "metadata": {},
   "outputs": [],
   "source": [
    "# Function to normalize only numeric columns\n",
    "def normalize_numeric_columns(raw_df):\n",
    "    numeric_columns = raw_df.select_dtypes(include=[np.number])\n",
    "    if not numeric_columns.empty:\n",
    "        scaler = MinMaxScaler()\n",
    "        raw_df[numeric_columns.columns] = scaler.fit_transform(numeric_columns)\n",
    "\n",
    "# Normalize only numeric columns\n",
    "normalize_numeric_columns(raw_df)\n",
    "print(raw_df)"
   ]
  },
  {
   "cell_type": "code",
   "execution_count": null,
   "id": "18910baf-273f-4daf-a632-8209006be88a",
   "metadata": {},
   "outputs": [],
   "source": [
    "#Outliers Treatement"
   ]
  },
  {
   "cell_type": "code",
   "execution_count": null,
   "id": "2ac0c752-acfd-4055-bcb8-8136b022c75c",
   "metadata": {},
   "outputs": [],
   "source": [
    " #Function to find outliers using IQR method for the 'Price for 2' column\n",
    "def find_Price_for_2_outliers(column):\n",
    "    Q1 = column.quantile(0.25)\n",
    "    Q3 = column.quantile(0.75)\n",
    "    IQR = Q3 - Q1\n",
    "\n",
    "    lower_bound = Q1 - 1.5 * IQR\n",
    "    upper_bound = Q3 + 1.5 * IQR\n",
    "\n",
    "    outliers = column[(column < lower_bound) | (column > upper_bound)]\n",
    "    return outliers\n",
    "\n",
    "# Detect outliers for the 'Price for 2' column\n",
    "price_for_2_outliers = find_Price_for_2_outliers(raw_df['Price for 2'])\n",
    "\n",
    "# Print or analyze the outliers\n",
    "if not price_for_2_outliers.empty:\n",
    "    print(f\"Outliers in 'Price for 2':\\n{price_for_2_outliers}\")\n",
    "else:\n",
    "    print(\"No outliers found in 'Price for 2'.\")"
   ]
  },
  {
   "cell_type": "code",
   "execution_count": null,
   "id": "e1f22321-3b22-4261-a2ce-228db4d6ac48",
   "metadata": {},
   "outputs": [],
   "source": [
    "# Function to find outliers using IQR method for the 'Dining Rating' column\n",
    "def find_Dining_Rating_outliers(column):\n",
    "    Q1 = column.quantile(0.25)\n",
    "    Q3 = column.quantile(0.75)\n",
    "    IQR = Q3 - Q1\n",
    "\n",
    "    lower_bound = Q1 - 1.5 * IQR\n",
    "    upper_bound = Q3 + 1.5 * IQR\n",
    "\n",
    "    outliers = column[(column < lower_bound) | (column > upper_bound)]\n",
    "    return outliers\n",
    "\n",
    "# Detect outliers for the 'Dining_Rating' column\n",
    "Dining_Rating_outliers = find_Dining_Rating_outliers(raw_df['Dining Rating'])\n",
    "\n",
    "# Print or analyze the outliers\n",
    "if not Dining_Rating_outliers.empty:\n",
    "    print(f\"Outliers in 'Dining Rating Count':\\n{Dining_Rating_outliers}\")\n",
    "else:\n",
    "    print(\"No outliers found in 'Dining Rating'.\")"
   ]
  },
  {
   "cell_type": "code",
   "execution_count": null,
   "id": "dddc5cf7-6697-439a-b23a-8db304e373a2",
   "metadata": {},
   "outputs": [],
   "source": [
    "# Function to find outliers using IQR method for the 'Dining Rating Count' column\n",
    "def find_Dining_Rating_Count_outliers(column):\n",
    "    Q1 = column.quantile(0.25)\n",
    "    Q3 = column.quantile(0.75)\n",
    "    IQR = Q3 - Q1\n",
    "\n",
    "    lower_bound = Q1 - 1.5 * IQR\n",
    "    upper_bound = Q3 + 1.5 * IQR\n",
    "\n",
    "    outliers = column[(column < lower_bound) | (column > upper_bound)]\n",
    "    return outliers\n",
    "\n",
    "# Detect outliers for the 'Dining_Rating_Count' column\n",
    "Dining_Rating_count_outliers = find_Dining_Rating_Count_outliers(raw_df['Dining Rating Count'])\n",
    "\n",
    "# Print or analyze the outliers\n",
    "if not Dining_Rating_count_outliers.empty:\n",
    "    print(f\"Outliers in 'Dining Rating':\\n{Dining_Rating_count_outliers}\")\n",
    "else:\n",
    "    print(\"No outliers found in 'Dining Rating Count'.\")"
   ]
  },
  {
   "cell_type": "code",
   "execution_count": null,
   "id": "f5941bce-3839-4bb0-8d40-967c5730f184",
   "metadata": {},
   "outputs": [],
   "source": [
    "# Function to find outliers using IQR method for the 'Delivery Rating' column\n",
    "def find_Delivery_Rating_outliers(column):\n",
    "    Q1 = column.quantile(0.25)\n",
    "    Q3 = column.quantile(0.75)\n",
    "    IQR = Q3 - Q1\n",
    "\n",
    "    lower_bound = Q1 - 1.5 * IQR\n",
    "    upper_bound = Q3 + 1.5 * IQR\n",
    "\n",
    "    outliers = column[(column < lower_bound) | (column > upper_bound)]\n",
    "    return outliers\n",
    "\n",
    "# Detect outliers for the'Delivery Rating' column\n",
    "Delivery_Rating_outliers = find_Delivery_Rating_outliers(raw_df['Delivery Rating'])\n",
    "\n",
    "# Print or analyze the outliers\n",
    "if not Delivery_Rating_outliers.empty:\n",
    "    print(f\"Outliers in 'Delivery Rating':\\n{Delivery_Rating_outliers}\")\n",
    "else:\n",
    "    print(\"No outliers found in 'Delivery Rating'.\")"
   ]
  },
  {
   "cell_type": "code",
   "execution_count": null,
   "id": "e96a82a8-f335-41c3-8fb9-92857648ade2",
   "metadata": {},
   "outputs": [],
   "source": [
    "# Function to find outliers using IQR method for the 'Delivery Rating Count' column\n",
    "def find_Delivery_Rating_Count_outliers(column):\n",
    "    Q1 = column.quantile(0.25)\n",
    "    Q3 = column.quantile(0.75)\n",
    "    IQR = Q3 - Q1\n",
    "\n",
    "    lower_bound = Q1 - 1.5 * IQR\n",
    "    upper_bound = Q3 + 1.5 * IQR\n",
    "\n",
    "    outliers = column[(column < lower_bound) | (column > upper_bound)]\n",
    "    return outliers\n",
    "\n",
    "# Detect outliers for the'Delivery Rating Count' column\n",
    "Delivery_Rating_Count_outliers = find_Delivery_Rating_Count_outliers(raw_df['Delivery Rating Count'])\n",
    "\n",
    "# Print or analyze the outliers\n",
    "if not Delivery_Rating_Count_outliers.empty:\n",
    "    print(f\"Outliers in 'Delivery Rating Count':\\n{Delivery_Rating_Count_outliers}\")\n",
    "else:\n",
    "    print(\"No outliers found in 'Delivery Rating Count'.\")"
   ]
  },
  {
   "cell_type": "code",
   "execution_count": null,
   "id": "f3ec67c5-77c3-4fd4-8e9a-237bb2f0602c",
   "metadata": {},
   "outputs": [],
   "source": [
    "# Define criteria for identifying outliers (you can adjust these thresholds)\n",
    "z_score_threshold = 3\n",
    "\n",
    "# Calculate z-scores for each column\n",
    "z_scores = np.abs((raw_df - raw_df.mean()) /raw_df.std())\n",
    "\n",
    "# Identify and remove outliers based on z-scores\n",
    "outliers = (z_scores > z_score_threshold).any(axis=1)\n",
    "filtered_data = raw_df[~outliers]\n",
    "\n",
    "# Print the shape of the filtered data\n",
    "print(\"Shape of filtered data:\", filtered_data.shape)"
   ]
  },
  {
   "cell_type": "code",
   "execution_count": null,
   "id": "bc674aee-3de1-4e97-8dc7-ecccd42eb4ef",
   "metadata": {},
   "outputs": [],
   "source": [
    "#One Variable Analysis for Numeric Values"
   ]
  },
  {
   "cell_type": "code",
   "execution_count": null,
   "id": "3d4de845-4b18-49a4-9865-2253ba756945",
   "metadata": {},
   "outputs": [],
   "source": [
    "# Summary statistics- one variable analysis(Price for 2)\n",
    "# Mean, Median, Mode\n",
    "mean_value = raw_df['Price for 2'].mean()\n",
    "median_value = raw_df['Price for 2'].median()\n",
    "mode_value = raw_df['Price for 2'].mode()[0]  # Mode can have multiple values\n",
    "print(\"Mean:\", mean_value)\n",
    "print(\"Median:\", median_value)\n",
    "print(\"Mode:\", mode_value)\n",
    "\n",
    "# Variance and Standard Deviation\n",
    "variance = raw_df['Price for 2'].var()\n",
    "std_dev = raw_df['Price for 2'].std()\n",
    "print(\"Variance:\", variance)\n",
    "print(\"Standard Deviation:\", std_dev)\n",
    "\n",
    "# Count and Unique Values\n",
    "count = raw_df['Price for 2'].count()\n",
    "nunique_values =raw_df['Price for 2'].nunique()\n",
    "unique_values =raw_df['Price for 2'].unique()\n",
    "sort = sorted(unique_values)\n",
    "print(\"Count:\", count)\n",
    "print(\"Number of Unique Values:\", nunique_values)\n",
    "print(\"Number of Unique Values:\", sort)\n",
    "\n",
    "# Min and Max\n",
    "minimum = raw_df['Price for 2'].min()\n",
    "maximum = raw_df['Price for 2'].max()\n",
    "print(\"Min:\", minimum)\n",
    "print(\"Max:\", maximum)\n",
    "\n",
    "# Skewness and Kurtosis\n",
    "skewness = raw_df['Price for 2'].skew()\n",
    "kurtosis = raw_df['Price for 2'].kurt()\n",
    "print(\"Skewness:\", skewness)\n",
    "print(\"Kurtosis:\", kurtosis)"
   ]
  },
  {
   "cell_type": "code",
   "execution_count": null,
   "id": "c2283b15-eaee-4ca9-8bf7-46adb2645950",
   "metadata": {},
   "outputs": [],
   "source": [
    "# Summary statistics- one variable analysis(Dining Rating Count)\n",
    "# Mean, Median, Mode\n",
    "mean_value = raw_df['Dining Rating Count'].mean()\n",
    "median_value = raw_df['Dining Rating Count'].median()\n",
    "mode_value = raw_df['Dining Rating Count'].mode()[0]  # Mode can have multiple values\n",
    "print(\"Mean:\", mean_value)\n",
    "print(\"Median:\", median_value)\n",
    "print(\"Mode:\", mode_value)\n",
    "\n",
    "# Variance and Standard Deviation\n",
    "variance = raw_df['Dining Rating Count'].var()\n",
    "std_dev = raw_df['Dining Rating Count'].std()\n",
    "print(\"Variance:\", variance)\n",
    "print(\"Standard Deviation:\", std_dev)\n",
    "\n",
    "# Count and Unique Values\n",
    "count = raw_df['Dining Rating Count'].count()\n",
    "unique_values = raw_df['Dining Rating Count'].nunique()\n",
    "print(\"Count:\", count)\n",
    "print(\"Number of Unique Values:\", unique_values)\n",
    "\n",
    "# Min and Max\n",
    "minimum = raw_df['Dining Rating Count'].min()\n",
    "maximum = raw_df['Dining Rating Count'].max()\n",
    "print(\"Min:\", minimum)\n",
    "print(\"Max:\", maximum)\n",
    "\n",
    "# Skewness and Kurtosis\n",
    "skewness = raw_df['Dining Rating Count'].skew()\n",
    "kurtosis = raw_df['Dining Rating Count'].kurt()\n",
    "print(\"Skewness:\", skewness)\n",
    "print(\"Kurtosis:\", kurtosis)"
   ]
  },
  {
   "cell_type": "code",
   "execution_count": null,
   "id": "2ced8633-ebe3-47be-98fc-b4c70821a6a7",
   "metadata": {},
   "outputs": [],
   "source": [
    "# Summary statistics- one variable analysis(Delivery Rating Count)\n",
    "# Mean, Median, Mode\n",
    "mean_value = raw_df['Delivery Rating Count'].mean()\n",
    "median_value = raw_df['Delivery Rating Count'].median()\n",
    "mode_value = raw_df['Delivery Rating Count'].mode()[0]  # Mode can have multiple values\n",
    "print(\"Mean:\", mean_value)\n",
    "print(\"Median:\", median_value)\n",
    "print(\"Mode:\", mode_value)\n",
    "\n",
    "# Variance and Standard Deviation\n",
    "variance = raw_df['Delivery Rating Count'].var()\n",
    "std_dev = raw_df['Delivery Rating Count'].std()\n",
    "print(\"Variance:\", variance)\n",
    "print(\"Standard Deviation:\", std_dev)\n",
    "\n",
    "# Count and Unique Values\n",
    "count = raw_df['Delivery Rating Count'].count()\n",
    "unique_values = raw_df['Delivery Rating Count'].nunique()\n",
    "print(\"Count:\", count)\n",
    "print(\"Number of Unique Values:\", unique_values)\n",
    "\n",
    "# Min and Max\n",
    "minimum = raw_df['Delivery Rating Count'].min()\n",
    "maximum = raw_df['Delivery Rating Count'].max()\n",
    "print(\"Min:\", minimum)\n",
    "print(\"Max:\", maximum)\n",
    "\n",
    "# Skewness and Kurtosis\n",
    "skewness = raw_df['Delivery Rating Count'].skew()\n",
    "kurtosis = raw_df['Delivery Rating Count'].kurt()\n",
    "print(\"Skewness:\", skewness)\n",
    "print(\"Kurtosis:\", kurtosis)"
   ]
  },
  {
   "cell_type": "code",
   "execution_count": null,
   "id": "011fa5f8-cd81-4a64-b1aa-6655eee22471",
   "metadata": {},
   "outputs": [],
   "source": [
    "#Data Visualization- Two or more variable Analysis"
   ]
  },
  {
   "cell_type": "code",
   "execution_count": null,
   "id": "23fdb173-498d-4992-9998-b8886b8fc9e4",
   "metadata": {},
   "outputs": [],
   "source": [
    "correlation_matrix = raw_df.corr()\n",
    "\n",
    "plt.figure(figsize=(8, 6))\n",
    "sns.heatmap(correlation_matrix, annot=True, cmap='coolwarm', linewidths=0.5)\n",
    "plt.title('Correlation Heatmap')\n",
    "plt.show()"
   ]
  },
  {
   "cell_type": "code",
   "execution_count": null,
   "id": "988ff16a-bc16-45fb-8b78-c25e30bb8a38",
   "metadata": {},
   "outputs": [],
   "source": [
    "# Group by location and calculate average price for 2\n",
    "location_prices = raw_df.groupby('Location')['Price for 2'].mean().reset_index()\n",
    "\n",
    "# Create a Plotly bar chart\n",
    "fig = px.bar(location_prices, x='Location', y='Price for 2', title='Location vs. Price for 2')\n",
    "fig.update_xaxes(categoryorder='total descending')\n",
    "fig.show()"
   ]
  },
  {
   "cell_type": "code",
   "execution_count": null,
   "id": "bcbe0b88-4c38-4be1-ab36-d6e88252673d",
   "metadata": {},
   "outputs": [],
   "source": [
    "# Spliting 'Top Dishes' into a list\n",
    "raw_df['Top Dishes'] = raw_df['Top Dishes'].apply(lambda x: [dish.strip() for dish in x.strip('[]').split(',')])\n",
    "# Now, df['Top Dishes'] contains lists of dishes for each row"
   ]
  },
  {
   "cell_type": "code",
   "execution_count": null,
   "id": "a6d417b4-e7d9-4f55-9cc0-606cda5e733f",
   "metadata": {},
   "outputs": [],
   "source": [
    "# Spliting 'Features' column into a list of features\n",
    "raw_df['Features'] =raw_df['Features'].apply(lambda x: [feature.strip() for feature in x.strip('[]').split(',')])\n",
    "\n",
    "# Flatten the list of features\n",
    "all_features = [feature for features_list in raw_df['Features'] for feature in features_list]\n",
    "\n",
    "# Filter out empty or invalid features (you can customize this condition)\n",
    "valid_features = [feature for feature in all_features if len(feature) > 0]\n",
    "\n",
    "# Create a pandas Series to count the features\n",
    "valid_features_counts = pd.Series(valid_features).value_counts()\n",
    "\n",
    "# Select the top 10 features\n",
    "top_10_features = valid_features_counts.head(10)\n",
    "\n",
    "# Create the bar plot for top 10 features\n",
    "plt.figure(figsize=(10, 6))\n",
    "sns.barplot(x=top_10_features.index, y=top_10_features.values, palette='viridis')\n",
    "plt.xticks(rotation=45)\n",
    "plt.xlabel('Feature')\n",
    "plt.ylabel('Count')\n",
    "plt.title('Top 10 Features')\n",
    "plt.show()"
   ]
  },
  {
   "cell_type": "code",
   "execution_count": null,
   "id": "4017a788-f392-49f3-8356-caf659f07ffd",
   "metadata": {},
   "outputs": [],
   "source": [
    "# Spliting 'Location' column into a list of locations\n",
    "raw_df['Location'] = raw_df['Location'].apply(lambda x: x.strip() if isinstance(x, str) else x)\n",
    "\n",
    "# Filter out any empty or invalid locations (you can customize this condition)\n",
    "valid_locations = raw_df[raw_df['Location'].notnull()]['Location']\n",
    "\n",
    "# Create a pandas Series to count the locations\n",
    "location_counts = valid_locations.value_counts()\n",
    "\n",
    "# Select the top 10 locations\n",
    "top_10_locations = location_counts.head(10)\n",
    "\n",
    "# Create the bar plot for top 10 locations\n",
    "plt.figure(figsize=(10, 6))\n",
    "sns.barplot(x=top_10_locations.index, y=top_10_locations.values, palette='viridis')\n",
    "plt.xticks(rotation=45)\n",
    "plt.xlabel('Location')\n",
    "plt.ylabel('Count')\n",
    "plt.title('Top 10 Locations')\n",
    "plt.show()"
   ]
  },
  {
   "cell_type": "code",
   "execution_count": null,
   "id": "c829389a-33c3-40c2-8b36-237765e3c1b9",
   "metadata": {},
   "outputs": [],
   "source": [
    "# Calculate the average ratings for each location\n",
    "average_ratings = raw_df.groupby('Location')[['Delivery Rating', 'Dining Rating']].mean().reset_index()\n",
    "\n",
    "# Select the top 10 locations\n",
    "top_10_locations = average_ratings.nlargest(10, 'Delivery Rating')  # You can choose 'Dining_Rating' if needed\n",
    "\n",
    "# Create a bar chart\n",
    "plt.figure(figsize=(12, 6))\n",
    "sns.barplot(x='Location', y='Delivery Rating', data=top_10_locations, color='blue', label='Delivery Rating')\n",
    "sns.barplot(x='Location', y='Dining Rating', data=top_10_locations, color='orange', label='Dining Rating')\n",
    "plt.xticks(rotation=90)\n",
    "plt.xlabel('Location')\n",
    "plt.ylabel('Average Rating')\n",
    "plt.title('Average Delivery and Dining Ratings for Top 10 Locations')\n",
    "plt.legend()\n",
    "plt.tight_layout()\n",
    "\n",
    "# Show the plot\n",
    "plt.show()"
   ]
  },
  {
   "cell_type": "code",
   "execution_count": null,
   "id": "744e89e0-c4f5-4108-8764-d8607701d33f",
   "metadata": {},
   "outputs": [],
   "source": [
    "# Filter the DataFrame to include only the top 10 entries\n",
    "top_10_df = raw_df.head(10)\n",
    "\n",
    "# Extract the first item from the 'Top Dishes' list\n",
    "top_10_raw_df['First_Dish'] = top_10_raw_df['Top Dishes'].apply(lambda x: x[0] if x else None)\n",
    "\n",
    "# Scatter plot for Delivery Rating vs. First Dish (Top 10)\n",
    "plt.figure(figsize=(10, 6))\n",
    "sns.scatterplot(x='Delivery Rating', y='First_Dish', data=top_10_raw_df, alpha=0.5)\n",
    "plt.xlabel('Delivery Rating')\n",
    "plt.ylabel('First Dish')\n",
    "plt.title('Delivery Rating vs. First Dish (Top 10)')\n",
    "plt.xticks(rotation=45)\n",
    "plt.tight_layout()\n",
    "plt.show()"
   ]
  },
  {
   "cell_type": "code",
   "execution_count": null,
   "id": "6dd2aa3e-b660-409a-954b-bd85048b78c1",
   "metadata": {},
   "outputs": [],
   "source": [
    "# Filter the DataFrame to include only the top 10 entries\n",
    "top_10_raw_df = raw_df.head(10)\n",
    "\n",
    "# Extract the first item from the 'Top Dishes' list\n",
    "top_10_raw_df['First_Dish'] = top_10_raw_df['Top Dishes'].apply(lambda x: x[0] if x else None)\n",
    "# Scatter plot for Dining Rating vs. First Dish (Top 10)\n",
    "plt.figure(figsize=(10, 6))\n",
    "sns.scatterplot(x='Dining Rating', y='First_Dish', data=top_10_df, alpha=0.5)\n",
    "plt.xlabel('Dining Rating')\n",
    "plt.ylabel('First Dish')\n",
    "plt.title('Dining Rating vs. First Dish (Top 10)')\n",
    "plt.xticks(rotation=45)\n",
    "plt.tight_layout()\n",
    "plt.show()"
   ]
  },
  {
   "cell_type": "code",
   "execution_count": null,
   "id": "5b158ffa-30e1-4c02-b78e-39197aa53d6d",
   "metadata": {},
   "outputs": [],
   "source": [
    "# Scatter plot for Delivery Rating vs. Price for 2 (Top 10)\n",
    "plt.figure(figsize=(10, 6))\n",
    "sns.scatterplot(x='Delivery Rating', y='Price for 2', data=top_10_raw_df, alpha=0.5)\n",
    "plt.xlabel('Delivery Rating')\n",
    "plt.ylabel('Price for 2')\n",
    "plt.title('Delivery Rating vs. Price for 2 (Top 10)')\n",
    "plt.tight_layout()\n",
    "plt.show()"
   ]
  },
  {
   "cell_type": "code",
   "execution_count": null,
   "id": "c91a451f-37f7-442d-bdc2-bf6e4a4264e7",
   "metadata": {},
   "outputs": [],
   "source": [
    "# Scatter plot for Dining Rating vs. Price for 2 (Top 10)\n",
    "plt.figure(figsize=(10, 6))\n",
    "sns.scatterplot(x='Dining Rating', y='Price for 2', data=top_10_raw_df, alpha=0.5)\n",
    "plt.xlabel('Dining Rating')\n",
    "plt.ylabel('Price for 2')\n",
    "plt.title('Dining Rating vs. Price for 2 (Top 10)')\n",
    "plt.tight_layout()\n",
    "plt.show()"
   ]
  },
  {
   "cell_type": "code",
   "execution_count": null,
   "id": "d066f6b0-a5a3-4f1c-8d50-e55a024b249d",
   "metadata": {},
   "outputs": [],
   "source": [
    "# Group the data by 'Price for 2' and calculate counts for dining and delivery ratings\n",
    "rating_counts = raw_df.groupby('Price for 2')[['Dining Rating Count', 'Delivery Rating Count']].sum().reset_index()\n",
    "\n",
    "# Select the top 10 price ranges\n",
    "top_10_price_ranges = rating_counts.nlargest(10, 'Price for 2')\n",
    "\n",
    "# Create a bar plot for Dining Rating Count\n",
    "plt.figure(figsize=(12, 6))\n",
    "sns.barplot(x='Price for 2', y='Dining Rating Count', data=top_10_price_ranges, palette='viridis')\n",
    "plt.xticks(rotation=45)\n",
    "plt.xlabel('Price for 2')\n",
    "plt.ylabel('Dining Rating Count')\n",
    "plt.title('Dining Rating Count with Respect to Top 10 Price for 2')\n",
    "plt.tight_layout()\n",
    "\n",
    "# Show the plot\n",
    "plt.show()\n"
   ]
  },
  {
   "cell_type": "code",
   "execution_count": null,
   "id": "c61738c9-2f0d-4aeb-b894-fffb0cfbcc31",
   "metadata": {},
   "outputs": [],
   "source": [
    "raw_df['Top Dishes'] = raw_df['Top Dishes'].apply(lambda x: x[0] if isinstance(x, list) and len(x) > 0 else x)\n",
    "\n",
    "# Get the top 10 categories by average 'Delivery Rating Count'\n",
    "top_10_dishes = raw_df.groupby('Top Dishes')['Delivery Rating Count'].mean().nlargest(10).index\n",
    "\n",
    "# Filter the DataFrame to include only the top 10 categories\n",
    "raw_df_filtered_dishes = raw_df[raw_df['Top Dishes'].isin(top_10_dishes)]\n",
    "\n",
    "# Bar plots for average ratings grouped by Top Dishes categories (top 10)\n",
    "average_ratings_by_dishes = raw_df_filtered_dishes.groupby('Top Dishes')[['Delivery Rating Count', 'Dining Rating Count']].mean().reset_index()\n",
    "\n",
    "plt.figure(figsize=(12, 6))\n",
    "sns.barplot(x='Top Dishes', y='Delivery Rating Count', data=average_ratings_by_dishes, color='purple', label='Delivery Rating Count')\n",
    "sns.barplot(x='Top Dishes', y='Dining Rating Count', data=average_ratings_by_dishes, color='blue', label='Dining Rating Count')\n",
    "plt.xlabel('Top Dishes')\n",
    "plt.ylabel('Average Rating')\n",
    "plt.title('Average Ratings by Top Dishes (Top 10)')\n",
    "plt.xticks(rotation=90)\n",
    "plt.legend()\n",
    "plt.tight_layout()\n",
    "plt.show()"
   ]
  },
  {
   "cell_type": "code",
   "execution_count": null,
   "id": "4a75dec9-1e03-41ba-8370-a99539699b6b",
   "metadata": {},
   "outputs": [],
   "source": [
    "# Get the top 10 categories by average 'Delivery Rating Count'\n",
    "top_10_prices = raw_df.groupby('Price for 2')['Delivery Rating Count'].mean().nlargest(10).index\n",
    "\n",
    "# Filter the DataFrame to include only the top 10 categories\n",
    "raw_df_filtered_prices = raw_df[raw_df['Price for 2'].isin(top_10_prices)]\n",
    "\n",
    "# Bar plots for average ratings grouped by Price for 2 categories (top 10)\n",
    "average_ratings_by_price = raw_df_filtered_prices.groupby('Price for 2')[['Delivery Rating Count', 'Dining Rating Count']].mean().reset_index()\n",
    "\n",
    "plt.figure(figsize=(12, 6))\n",
    "sns.barplot(x='Price for 2', y='Delivery Rating Count', data=average_ratings_by_price, color='yellow', label='Delivery Rating Count')\n",
    "sns.barplot(x='Price for 2', y='Dining Rating Count', data=average_ratings_by_price, color='green', label='Dining Rating Count')\n",
    "plt.xlabel('Price for 2')\n",
    "plt.ylabel('Average Rating')\n",
    "plt.title('Average Ratings by Price for 2 (Top 10)')\n",
    "plt.xticks(rotation=45)\n",
    "plt.legend()\n",
    "plt.tight_layout()\n",
    "plt.show()"
   ]
  },
  {
   "cell_type": "code",
   "execution_count": null,
   "id": "46d20682-9f20-4daa-a892-ba997142b767",
   "metadata": {},
   "outputs": [],
   "source": []
  }
 ],
 "metadata": {
  "kernelspec": {
   "display_name": "Python 3 (ipykernel)",
   "language": "python",
   "name": "python3"
  },
  "language_info": {
   "codemirror_mode": {
    "name": "ipython",
    "version": 3
   },
   "file_extension": ".py",
   "mimetype": "text/x-python",
   "name": "python",
   "nbconvert_exporter": "python",
   "pygments_lexer": "ipython3",
   "version": "3.11.5"
  }
 },
 "nbformat": 4,
 "nbformat_minor": 5
}
