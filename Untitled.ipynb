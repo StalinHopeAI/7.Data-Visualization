{
 "cells": [
  {
   "cell_type": "code",
   "execution_count": 1,
   "id": "8279fb84-a298-4167-9f38-808cb48b9725",
   "metadata": {},
   "outputs": [],
   "source": [
    "import pandas as pd\n",
    "dataset=pd.read_csv(\"data.csv\")"
   ]
  },
  {
   "cell_type": "code",
   "execution_count": 2,
   "id": "9c3f7e6a-a7f0-4719-a9da-03d9ace65a98",
   "metadata": {},
   "outputs": [
    {
     "data": {
      "text/html": [
       "<div>\n",
       "<style scoped>\n",
       "    .dataframe tbody tr th:only-of-type {\n",
       "        vertical-align: middle;\n",
       "    }\n",
       "\n",
       "    .dataframe tbody tr th {\n",
       "        vertical-align: top;\n",
       "    }\n",
       "\n",
       "    .dataframe thead th {\n",
       "        text-align: right;\n",
       "    }\n",
       "</style>\n",
       "<table border=\"1\" class=\"dataframe\">\n",
       "  <thead>\n",
       "    <tr style=\"text-align: right;\">\n",
       "      <th></th>\n",
       "      <th>DATE</th>\n",
       "      <th>LOCID</th>\n",
       "      <th>CELL</th>\n",
       "      <th>LTE_RRC_SETUP_ATT_4G_ERICSSON4G</th>\n",
       "      <th>LTE_RRC_SETUP_ATT_4G_HUAWEI4G</th>\n",
       "      <th>LTE_RRC_SETUP_SUCCESS_RATIO_4G_HUAWEI4G</th>\n",
       "      <th>LTE_RRC_SETUP_SUCCESS_RATIO_4G_ERICSSON4G</th>\n",
       "    </tr>\n",
       "  </thead>\n",
       "  <tbody>\n",
       "    <tr>\n",
       "      <th>0</th>\n",
       "      <td>9/16/2024</td>\n",
       "      <td>181</td>\n",
       "      <td>181_L_1_08F01</td>\n",
       "      <td>0</td>\n",
       "      <td>52877</td>\n",
       "      <td>99.316</td>\n",
       "      <td>NaN</td>\n",
       "    </tr>\n",
       "    <tr>\n",
       "      <th>1</th>\n",
       "      <td>9/16/2024</td>\n",
       "      <td>181</td>\n",
       "      <td>181_L_1_08F02</td>\n",
       "      <td>0</td>\n",
       "      <td>28721</td>\n",
       "      <td>99.552</td>\n",
       "      <td>NaN</td>\n",
       "    </tr>\n",
       "    <tr>\n",
       "      <th>2</th>\n",
       "      <td>9/16/2024</td>\n",
       "      <td>181</td>\n",
       "      <td>181_L_1_08F03</td>\n",
       "      <td>0</td>\n",
       "      <td>62240</td>\n",
       "      <td>99.870</td>\n",
       "      <td>NaN</td>\n",
       "    </tr>\n",
       "    <tr>\n",
       "      <th>3</th>\n",
       "      <td>9/16/2024</td>\n",
       "      <td>181</td>\n",
       "      <td>181_L_1_09F01</td>\n",
       "      <td>0</td>\n",
       "      <td>54810</td>\n",
       "      <td>99.874</td>\n",
       "      <td>NaN</td>\n",
       "    </tr>\n",
       "    <tr>\n",
       "      <th>4</th>\n",
       "      <td>9/16/2024</td>\n",
       "      <td>181</td>\n",
       "      <td>181_L_1_09F02</td>\n",
       "      <td>0</td>\n",
       "      <td>27954</td>\n",
       "      <td>99.471</td>\n",
       "      <td>NaN</td>\n",
       "    </tr>\n",
       "    <tr>\n",
       "      <th>...</th>\n",
       "      <td>...</td>\n",
       "      <td>...</td>\n",
       "      <td>...</td>\n",
       "      <td>...</td>\n",
       "      <td>...</td>\n",
       "      <td>...</td>\n",
       "      <td>...</td>\n",
       "    </tr>\n",
       "    <tr>\n",
       "      <th>17035</th>\n",
       "      <td>11/14/2024</td>\n",
       "      <td>34081</td>\n",
       "      <td>34081_N_1_35T02</td>\n",
       "      <td>0</td>\n",
       "      <td>0</td>\n",
       "      <td>NaN</td>\n",
       "      <td>NaN</td>\n",
       "    </tr>\n",
       "    <tr>\n",
       "      <th>17036</th>\n",
       "      <td>11/14/2024</td>\n",
       "      <td>34081</td>\n",
       "      <td>34081_N_1_35T03</td>\n",
       "      <td>0</td>\n",
       "      <td>0</td>\n",
       "      <td>NaN</td>\n",
       "      <td>NaN</td>\n",
       "    </tr>\n",
       "    <tr>\n",
       "      <th>17037</th>\n",
       "      <td>11/14/2024</td>\n",
       "      <td>34081</td>\n",
       "      <td>34081_U_1_09F11</td>\n",
       "      <td>0</td>\n",
       "      <td>0</td>\n",
       "      <td>NaN</td>\n",
       "      <td>NaN</td>\n",
       "    </tr>\n",
       "    <tr>\n",
       "      <th>17038</th>\n",
       "      <td>11/14/2024</td>\n",
       "      <td>34081</td>\n",
       "      <td>34081_U_1_09F12</td>\n",
       "      <td>0</td>\n",
       "      <td>0</td>\n",
       "      <td>NaN</td>\n",
       "      <td>NaN</td>\n",
       "    </tr>\n",
       "    <tr>\n",
       "      <th>17039</th>\n",
       "      <td>11/14/2024</td>\n",
       "      <td>34081</td>\n",
       "      <td>34081_U_1_09F13</td>\n",
       "      <td>0</td>\n",
       "      <td>0</td>\n",
       "      <td>NaN</td>\n",
       "      <td>NaN</td>\n",
       "    </tr>\n",
       "  </tbody>\n",
       "</table>\n",
       "<p>17040 rows × 7 columns</p>\n",
       "</div>"
      ],
      "text/plain": [
       "             DATE  LOCID             CELL  LTE_RRC_SETUP_ATT_4G_ERICSSON4G  \\\n",
       "0       9/16/2024    181    181_L_1_08F01                                0   \n",
       "1       9/16/2024    181    181_L_1_08F02                                0   \n",
       "2       9/16/2024    181    181_L_1_08F03                                0   \n",
       "3       9/16/2024    181    181_L_1_09F01                                0   \n",
       "4       9/16/2024    181    181_L_1_09F02                                0   \n",
       "...           ...    ...              ...                              ...   \n",
       "17035  11/14/2024  34081  34081_N_1_35T02                                0   \n",
       "17036  11/14/2024  34081  34081_N_1_35T03                                0   \n",
       "17037  11/14/2024  34081  34081_U_1_09F11                                0   \n",
       "17038  11/14/2024  34081  34081_U_1_09F12                                0   \n",
       "17039  11/14/2024  34081  34081_U_1_09F13                                0   \n",
       "\n",
       "       LTE_RRC_SETUP_ATT_4G_HUAWEI4G  LTE_RRC_SETUP_SUCCESS_RATIO_4G_HUAWEI4G  \\\n",
       "0                              52877                                   99.316   \n",
       "1                              28721                                   99.552   \n",
       "2                              62240                                   99.870   \n",
       "3                              54810                                   99.874   \n",
       "4                              27954                                   99.471   \n",
       "...                              ...                                      ...   \n",
       "17035                              0                                      NaN   \n",
       "17036                              0                                      NaN   \n",
       "17037                              0                                      NaN   \n",
       "17038                              0                                      NaN   \n",
       "17039                              0                                      NaN   \n",
       "\n",
       "       LTE_RRC_SETUP_SUCCESS_RATIO_4G_ERICSSON4G  \n",
       "0                                            NaN  \n",
       "1                                            NaN  \n",
       "2                                            NaN  \n",
       "3                                            NaN  \n",
       "4                                            NaN  \n",
       "...                                          ...  \n",
       "17035                                        NaN  \n",
       "17036                                        NaN  \n",
       "17037                                        NaN  \n",
       "17038                                        NaN  \n",
       "17039                                        NaN  \n",
       "\n",
       "[17040 rows x 7 columns]"
      ]
     },
     "execution_count": 2,
     "metadata": {},
     "output_type": "execute_result"
    }
   ],
   "source": [
    "dataset"
   ]
  },
  {
   "cell_type": "code",
   "execution_count": 3,
   "id": "ff422b64-bfd3-4808-b282-24cc5f39b1d8",
   "metadata": {},
   "outputs": [
    {
     "data": {
      "text/plain": [
       "Index(['DATE', 'LOCID', 'CELL', 'LTE_RRC_SETUP_ATT_4G_ERICSSON4G',\n",
       "       'LTE_RRC_SETUP_ATT_4G_HUAWEI4G',\n",
       "       'LTE_RRC_SETUP_SUCCESS_RATIO_4G_HUAWEI4G',\n",
       "       'LTE_RRC_SETUP_SUCCESS_RATIO_4G_ERICSSON4G'],\n",
       "      dtype='object')"
      ]
     },
     "execution_count": 3,
     "metadata": {},
     "output_type": "execute_result"
    }
   ],
   "source": [
    "dataset.columns"
   ]
  },
  {
   "cell_type": "code",
   "execution_count": 15,
   "id": "5cc1f611-dfe7-4328-ab1b-191d0eca3013",
   "metadata": {},
   "outputs": [],
   "source": [
    "from datetime import date, timedelta\n",
    "import pandas as pd\n",
    "start_date = pd.to_datetime(\"2024-09-16\")\n",
    "end_date = pd.to_datetime(\"2024-11-14\") - timedelta(days=1) #Excluding last\n",
    "\n",
    "#List of all dates\n",
    "all_date = pd.date_range(start_date, end_date, freq='d')"
   ]
  },
  {
   "cell_type": "code",
   "execution_count": 16,
   "id": "3cff3f8a-bb69-4d43-afac-f9b811c5aee9",
   "metadata": {},
   "outputs": [
    {
     "data": {
      "text/plain": [
       "DatetimeIndex(['2024-09-16', '2024-09-17', '2024-09-18', '2024-09-19',\n",
       "               '2024-09-20', '2024-09-21', '2024-09-22', '2024-09-23',\n",
       "               '2024-09-24', '2024-09-25', '2024-09-26', '2024-09-27',\n",
       "               '2024-09-28', '2024-09-29', '2024-09-30', '2024-10-01',\n",
       "               '2024-10-02', '2024-10-03', '2024-10-04', '2024-10-05',\n",
       "               '2024-10-06', '2024-10-07', '2024-10-08', '2024-10-09',\n",
       "               '2024-10-10', '2024-10-11', '2024-10-12', '2024-10-13',\n",
       "               '2024-10-14', '2024-10-15', '2024-10-16', '2024-10-17',\n",
       "               '2024-10-18', '2024-10-19', '2024-10-20', '2024-10-21',\n",
       "               '2024-10-22', '2024-10-23', '2024-10-24', '2024-10-25',\n",
       "               '2024-10-26', '2024-10-27', '2024-10-28', '2024-10-29',\n",
       "               '2024-10-30', '2024-10-31', '2024-11-01', '2024-11-02',\n",
       "               '2024-11-03', '2024-11-04', '2024-11-05', '2024-11-06',\n",
       "               '2024-11-07', '2024-11-08', '2024-11-09', '2024-11-10',\n",
       "               '2024-11-11', '2024-11-12', '2024-11-13'],\n",
       "              dtype='datetime64[ns]', freq='D')"
      ]
     },
     "execution_count": 16,
     "metadata": {},
     "output_type": "execute_result"
    }
   ],
   "source": [
    "all_date"
   ]
  },
  {
   "cell_type": "code",
   "execution_count": 17,
   "id": "f1c279ac-255f-4d46-a965-a5d564d20fd3",
   "metadata": {},
   "outputs": [
    {
     "data": {
      "text/html": [
       "<div>\n",
       "<style scoped>\n",
       "    .dataframe tbody tr th:only-of-type {\n",
       "        vertical-align: middle;\n",
       "    }\n",
       "\n",
       "    .dataframe tbody tr th {\n",
       "        vertical-align: top;\n",
       "    }\n",
       "\n",
       "    .dataframe thead th {\n",
       "        text-align: right;\n",
       "    }\n",
       "</style>\n",
       "<table border=\"1\" class=\"dataframe\">\n",
       "  <thead>\n",
       "    <tr style=\"text-align: right;\">\n",
       "      <th></th>\n",
       "      <th>DATE</th>\n",
       "      <th>LOCID</th>\n",
       "      <th>CELL</th>\n",
       "      <th>LTE_RRC_SETUP_ATT_4G_ERICSSON4G</th>\n",
       "      <th>LTE_RRC_SETUP_ATT_4G_HUAWEI4G</th>\n",
       "      <th>LTE_RRC_SETUP_SUCCESS_RATIO_4G_HUAWEI4G</th>\n",
       "      <th>LTE_RRC_SETUP_SUCCESS_RATIO_4G_ERICSSON4G</th>\n",
       "    </tr>\n",
       "  </thead>\n",
       "  <tbody>\n",
       "    <tr>\n",
       "      <th>0</th>\n",
       "      <td>9/16/2024</td>\n",
       "      <td>181</td>\n",
       "      <td>181_L_1_08F01</td>\n",
       "      <td>0</td>\n",
       "      <td>52877</td>\n",
       "      <td>99.316</td>\n",
       "      <td>NaN</td>\n",
       "    </tr>\n",
       "    <tr>\n",
       "      <th>1</th>\n",
       "      <td>9/16/2024</td>\n",
       "      <td>181</td>\n",
       "      <td>181_L_1_08F02</td>\n",
       "      <td>0</td>\n",
       "      <td>28721</td>\n",
       "      <td>99.552</td>\n",
       "      <td>NaN</td>\n",
       "    </tr>\n",
       "    <tr>\n",
       "      <th>2</th>\n",
       "      <td>9/16/2024</td>\n",
       "      <td>181</td>\n",
       "      <td>181_L_1_08F03</td>\n",
       "      <td>0</td>\n",
       "      <td>62240</td>\n",
       "      <td>99.870</td>\n",
       "      <td>NaN</td>\n",
       "    </tr>\n",
       "    <tr>\n",
       "      <th>3</th>\n",
       "      <td>9/16/2024</td>\n",
       "      <td>181</td>\n",
       "      <td>181_L_1_09F01</td>\n",
       "      <td>0</td>\n",
       "      <td>54810</td>\n",
       "      <td>99.874</td>\n",
       "      <td>NaN</td>\n",
       "    </tr>\n",
       "    <tr>\n",
       "      <th>4</th>\n",
       "      <td>9/16/2024</td>\n",
       "      <td>181</td>\n",
       "      <td>181_L_1_09F02</td>\n",
       "      <td>0</td>\n",
       "      <td>27954</td>\n",
       "      <td>99.471</td>\n",
       "      <td>NaN</td>\n",
       "    </tr>\n",
       "    <tr>\n",
       "      <th>...</th>\n",
       "      <td>...</td>\n",
       "      <td>...</td>\n",
       "      <td>...</td>\n",
       "      <td>...</td>\n",
       "      <td>...</td>\n",
       "      <td>...</td>\n",
       "      <td>...</td>\n",
       "    </tr>\n",
       "    <tr>\n",
       "      <th>17035</th>\n",
       "      <td>11/14/2024</td>\n",
       "      <td>34081</td>\n",
       "      <td>34081_N_1_35T02</td>\n",
       "      <td>0</td>\n",
       "      <td>0</td>\n",
       "      <td>NaN</td>\n",
       "      <td>NaN</td>\n",
       "    </tr>\n",
       "    <tr>\n",
       "      <th>17036</th>\n",
       "      <td>11/14/2024</td>\n",
       "      <td>34081</td>\n",
       "      <td>34081_N_1_35T03</td>\n",
       "      <td>0</td>\n",
       "      <td>0</td>\n",
       "      <td>NaN</td>\n",
       "      <td>NaN</td>\n",
       "    </tr>\n",
       "    <tr>\n",
       "      <th>17037</th>\n",
       "      <td>11/14/2024</td>\n",
       "      <td>34081</td>\n",
       "      <td>34081_U_1_09F11</td>\n",
       "      <td>0</td>\n",
       "      <td>0</td>\n",
       "      <td>NaN</td>\n",
       "      <td>NaN</td>\n",
       "    </tr>\n",
       "    <tr>\n",
       "      <th>17038</th>\n",
       "      <td>11/14/2024</td>\n",
       "      <td>34081</td>\n",
       "      <td>34081_U_1_09F12</td>\n",
       "      <td>0</td>\n",
       "      <td>0</td>\n",
       "      <td>NaN</td>\n",
       "      <td>NaN</td>\n",
       "    </tr>\n",
       "    <tr>\n",
       "      <th>17039</th>\n",
       "      <td>11/14/2024</td>\n",
       "      <td>34081</td>\n",
       "      <td>34081_U_1_09F13</td>\n",
       "      <td>0</td>\n",
       "      <td>0</td>\n",
       "      <td>NaN</td>\n",
       "      <td>NaN</td>\n",
       "    </tr>\n",
       "  </tbody>\n",
       "</table>\n",
       "<p>17040 rows × 7 columns</p>\n",
       "</div>"
      ],
      "text/plain": [
       "             DATE  LOCID             CELL  LTE_RRC_SETUP_ATT_4G_ERICSSON4G  \\\n",
       "0       9/16/2024    181    181_L_1_08F01                                0   \n",
       "1       9/16/2024    181    181_L_1_08F02                                0   \n",
       "2       9/16/2024    181    181_L_1_08F03                                0   \n",
       "3       9/16/2024    181    181_L_1_09F01                                0   \n",
       "4       9/16/2024    181    181_L_1_09F02                                0   \n",
       "...           ...    ...              ...                              ...   \n",
       "17035  11/14/2024  34081  34081_N_1_35T02                                0   \n",
       "17036  11/14/2024  34081  34081_N_1_35T03                                0   \n",
       "17037  11/14/2024  34081  34081_U_1_09F11                                0   \n",
       "17038  11/14/2024  34081  34081_U_1_09F12                                0   \n",
       "17039  11/14/2024  34081  34081_U_1_09F13                                0   \n",
       "\n",
       "       LTE_RRC_SETUP_ATT_4G_HUAWEI4G  LTE_RRC_SETUP_SUCCESS_RATIO_4G_HUAWEI4G  \\\n",
       "0                              52877                                   99.316   \n",
       "1                              28721                                   99.552   \n",
       "2                              62240                                   99.870   \n",
       "3                              54810                                   99.874   \n",
       "4                              27954                                   99.471   \n",
       "...                              ...                                      ...   \n",
       "17035                              0                                      NaN   \n",
       "17036                              0                                      NaN   \n",
       "17037                              0                                      NaN   \n",
       "17038                              0                                      NaN   \n",
       "17039                              0                                      NaN   \n",
       "\n",
       "       LTE_RRC_SETUP_SUCCESS_RATIO_4G_ERICSSON4G  \n",
       "0                                            NaN  \n",
       "1                                            NaN  \n",
       "2                                            NaN  \n",
       "3                                            NaN  \n",
       "4                                            NaN  \n",
       "...                                          ...  \n",
       "17035                                        NaN  \n",
       "17036                                        NaN  \n",
       "17037                                        NaN  \n",
       "17038                                        NaN  \n",
       "17039                                        NaN  \n",
       "\n",
       "[17040 rows x 7 columns]"
      ]
     },
     "execution_count": 17,
     "metadata": {},
     "output_type": "execute_result"
    }
   ],
   "source": [
    "dataset"
   ]
  },
  {
   "cell_type": "code",
   "execution_count": 18,
   "id": "08b8d05f-ac95-4548-b917-7bee4f7260b9",
   "metadata": {},
   "outputs": [
    {
     "ename": "ValueError",
     "evalue": "Length mismatch: Expected axis has 17040 elements, new values have 59 elements",
     "output_type": "error",
     "traceback": [
      "\u001b[1;31m---------------------------------------------------------------------------\u001b[0m",
      "\u001b[1;31mValueError\u001b[0m                                Traceback (most recent call last)",
      "Cell \u001b[1;32mIn[18], line 1\u001b[0m\n\u001b[1;32m----> 1\u001b[0m \u001b[43mdataset\u001b[49m\u001b[38;5;241;43m.\u001b[39;49m\u001b[43mindex\u001b[49m\u001b[38;5;241m=\u001b[39mall_date\n",
      "File \u001b[1;32mC:\\PythonEnv\\PythonSoftware\\3.11.6\\Lib\\site-packages\\pandas\\core\\generic.py:6310\u001b[0m, in \u001b[0;36mNDFrame.__setattr__\u001b[1;34m(self, name, value)\u001b[0m\n\u001b[0;32m   6308\u001b[0m \u001b[38;5;28;01mtry\u001b[39;00m:\n\u001b[0;32m   6309\u001b[0m     \u001b[38;5;28mobject\u001b[39m\u001b[38;5;241m.\u001b[39m\u001b[38;5;21m__getattribute__\u001b[39m(\u001b[38;5;28mself\u001b[39m, name)\n\u001b[1;32m-> 6310\u001b[0m     \u001b[38;5;28;01mreturn\u001b[39;00m \u001b[38;5;28;43mobject\u001b[39;49m\u001b[38;5;241;43m.\u001b[39;49m\u001b[38;5;21;43m__setattr__\u001b[39;49m\u001b[43m(\u001b[49m\u001b[38;5;28;43mself\u001b[39;49m\u001b[43m,\u001b[49m\u001b[43m \u001b[49m\u001b[43mname\u001b[49m\u001b[43m,\u001b[49m\u001b[43m \u001b[49m\u001b[43mvalue\u001b[49m\u001b[43m)\u001b[49m\n\u001b[0;32m   6311\u001b[0m \u001b[38;5;28;01mexcept\u001b[39;00m \u001b[38;5;167;01mAttributeError\u001b[39;00m:\n\u001b[0;32m   6312\u001b[0m     \u001b[38;5;28;01mpass\u001b[39;00m\n",
      "File \u001b[1;32mproperties.pyx:69\u001b[0m, in \u001b[0;36mpandas._libs.properties.AxisProperty.__set__\u001b[1;34m()\u001b[0m\n",
      "File \u001b[1;32mC:\\PythonEnv\\PythonSoftware\\3.11.6\\Lib\\site-packages\\pandas\\core\\generic.py:813\u001b[0m, in \u001b[0;36mNDFrame._set_axis\u001b[1;34m(self, axis, labels)\u001b[0m\n\u001b[0;32m    808\u001b[0m \u001b[38;5;250m\u001b[39m\u001b[38;5;124;03m\"\"\"\u001b[39;00m\n\u001b[0;32m    809\u001b[0m \u001b[38;5;124;03mThis is called from the cython code when we set the `index` attribute\u001b[39;00m\n\u001b[0;32m    810\u001b[0m \u001b[38;5;124;03mdirectly, e.g. `series.index = [1, 2, 3]`.\u001b[39;00m\n\u001b[0;32m    811\u001b[0m \u001b[38;5;124;03m\"\"\"\u001b[39;00m\n\u001b[0;32m    812\u001b[0m labels \u001b[38;5;241m=\u001b[39m ensure_index(labels)\n\u001b[1;32m--> 813\u001b[0m \u001b[38;5;28;43mself\u001b[39;49m\u001b[38;5;241;43m.\u001b[39;49m\u001b[43m_mgr\u001b[49m\u001b[38;5;241;43m.\u001b[39;49m\u001b[43mset_axis\u001b[49m\u001b[43m(\u001b[49m\u001b[43maxis\u001b[49m\u001b[43m,\u001b[49m\u001b[43m \u001b[49m\u001b[43mlabels\u001b[49m\u001b[43m)\u001b[49m\n\u001b[0;32m    814\u001b[0m \u001b[38;5;28mself\u001b[39m\u001b[38;5;241m.\u001b[39m_clear_item_cache()\n",
      "File \u001b[1;32mC:\\PythonEnv\\PythonSoftware\\3.11.6\\Lib\\site-packages\\pandas\\core\\internals\\managers.py:238\u001b[0m, in \u001b[0;36mBaseBlockManager.set_axis\u001b[1;34m(self, axis, new_labels)\u001b[0m\n\u001b[0;32m    236\u001b[0m \u001b[38;5;28;01mdef\u001b[39;00m \u001b[38;5;21mset_axis\u001b[39m(\u001b[38;5;28mself\u001b[39m, axis: AxisInt, new_labels: Index) \u001b[38;5;241m-\u001b[39m\u001b[38;5;241m>\u001b[39m \u001b[38;5;28;01mNone\u001b[39;00m:\n\u001b[0;32m    237\u001b[0m     \u001b[38;5;66;03m# Caller is responsible for ensuring we have an Index object.\u001b[39;00m\n\u001b[1;32m--> 238\u001b[0m     \u001b[38;5;28;43mself\u001b[39;49m\u001b[38;5;241;43m.\u001b[39;49m\u001b[43m_validate_set_axis\u001b[49m\u001b[43m(\u001b[49m\u001b[43maxis\u001b[49m\u001b[43m,\u001b[49m\u001b[43m \u001b[49m\u001b[43mnew_labels\u001b[49m\u001b[43m)\u001b[49m\n\u001b[0;32m    239\u001b[0m     \u001b[38;5;28mself\u001b[39m\u001b[38;5;241m.\u001b[39maxes[axis] \u001b[38;5;241m=\u001b[39m new_labels\n",
      "File \u001b[1;32mC:\\PythonEnv\\PythonSoftware\\3.11.6\\Lib\\site-packages\\pandas\\core\\internals\\base.py:98\u001b[0m, in \u001b[0;36mDataManager._validate_set_axis\u001b[1;34m(self, axis, new_labels)\u001b[0m\n\u001b[0;32m     95\u001b[0m     \u001b[38;5;28;01mpass\u001b[39;00m\n\u001b[0;32m     97\u001b[0m \u001b[38;5;28;01melif\u001b[39;00m new_len \u001b[38;5;241m!=\u001b[39m old_len:\n\u001b[1;32m---> 98\u001b[0m     \u001b[38;5;28;01mraise\u001b[39;00m \u001b[38;5;167;01mValueError\u001b[39;00m(\n\u001b[0;32m     99\u001b[0m         \u001b[38;5;124mf\u001b[39m\u001b[38;5;124m\"\u001b[39m\u001b[38;5;124mLength mismatch: Expected axis has \u001b[39m\u001b[38;5;132;01m{\u001b[39;00mold_len\u001b[38;5;132;01m}\u001b[39;00m\u001b[38;5;124m elements, new \u001b[39m\u001b[38;5;124m\"\u001b[39m\n\u001b[0;32m    100\u001b[0m         \u001b[38;5;124mf\u001b[39m\u001b[38;5;124m\"\u001b[39m\u001b[38;5;124mvalues have \u001b[39m\u001b[38;5;132;01m{\u001b[39;00mnew_len\u001b[38;5;132;01m}\u001b[39;00m\u001b[38;5;124m elements\u001b[39m\u001b[38;5;124m\"\u001b[39m\n\u001b[0;32m    101\u001b[0m     )\n",
      "\u001b[1;31mValueError\u001b[0m: Length mismatch: Expected axis has 17040 elements, new values have 59 elements"
     ]
    }
   ],
   "source": [
    "dataset.index=all_date"
   ]
  },
  {
   "cell_type": "code",
   "execution_count": null,
   "id": "2fa227c5-cf57-4da3-980b-daf513604f48",
   "metadata": {},
   "outputs": [],
   "source": [
    "dummydate"
   ]
  },
  {
   "cell_type": "code",
   "execution_count": 10,
   "id": "9065b591-a85c-48f3-8148-3083d666244c",
   "metadata": {},
   "outputs": [
    {
     "data": {
      "text/plain": [
       "[<matplotlib.lines.Line2D at 0x2b032f13d10>]"
      ]
     },
     "execution_count": 10,
     "metadata": {},
     "output_type": "execute_result"
    },
    {
     "data": {
      "image/png": "[encoded data removed]",
      "text/plain": [
       "<Figure size 640x480 with 1 Axes>"
      ]
     },
     "metadata": {},
     "output_type": "display_data"
    }
   ],
   "source": [
    "import matplotlib.pyplot as plt\n",
    "plt.plot(dataset[\"LTE_RRC_SETUP_ATT_4G_ERICSSON4G\"])"
   ]
  },
  {
   "cell_type": "code",
   "execution_count": 11,
   "id": "5a0763ba-58da-4321-89e7-603592699601",
   "metadata": {},
   "outputs": [
    {
     "data": {
      "text/plain": [
       "[<matplotlib.lines.Line2D at 0x2b033128810>]"
      ]
     },
     "execution_count": 11,
     "metadata": {},
     "output_type": "execute_result"
    },
    {
     "data": {
      "image/png": "[encoded data removed]",
      "text/plain": [
       "<Figure size 640x480 with 1 Axes>"
      ]
     },
     "metadata": {},
     "output_type": "display_data"
    }
   ],
   "source": [
    "import matplotlib.pyplot as plt\n",
    "plt.plot(dataset[\"LTE_RRC_SETUP_ATT_4G_HUAWEI4G\"])"
   ]
  },
  {
   "cell_type": "code",
   "execution_count": 12,
   "id": "e794b3af-eda9-471d-b9f7-3691b1f51f97",
   "metadata": {},
   "outputs": [
    {
     "ename": "ModuleNotFoundError",
     "evalue": "No module named 'statsmodels'",
     "output_type": "error",
     "traceback": [
      "\u001b[1;31m---------------------------------------------------------------------------\u001b[0m",
      "\u001b[1;31mModuleNotFoundError\u001b[0m                       Traceback (most recent call last)",
      "Cell \u001b[1;32mIn[12], line 3\u001b[0m\n\u001b[0;32m      1\u001b[0m \u001b[38;5;28;01mfrom\u001b[39;00m \u001b[38;5;21;01mpandas\u001b[39;00m \u001b[38;5;28;01mimport\u001b[39;00m read_csv\n\u001b[0;32m      2\u001b[0m \u001b[38;5;28;01mfrom\u001b[39;00m \u001b[38;5;21;01mmatplotlib\u001b[39;00m \u001b[38;5;28;01mimport\u001b[39;00m pyplot \u001b[38;5;28;01mas\u001b[39;00m plt\n\u001b[1;32m----> 3\u001b[0m \u001b[38;5;28;01mfrom\u001b[39;00m \u001b[38;5;21;01mstatsmodels\u001b[39;00m\u001b[38;5;21;01m.\u001b[39;00m\u001b[38;5;21;01mtsa\u001b[39;00m\u001b[38;5;21;01m.\u001b[39;00m\u001b[38;5;21;01mseasonal\u001b[39;00m \u001b[38;5;28;01mimport\u001b[39;00m seasonal_decompose\n\u001b[0;32m      4\u001b[0m result \u001b[38;5;241m=\u001b[39m seasonal_decompose(dummyDate[\u001b[38;5;124m\"\u001b[39m\u001b[38;5;124mLTE_RRC_SETUP_ATT_4G_ERICSSON4G\u001b[39m\u001b[38;5;124m\"\u001b[39m], model\u001b[38;5;241m=\u001b[39m\u001b[38;5;124m'\u001b[39m\u001b[38;5;124mmultiplicative\u001b[39m\u001b[38;5;124m'\u001b[39m)\n\u001b[0;32m      5\u001b[0m plt\u001b[38;5;241m.\u001b[39mfigure(figsize\u001b[38;5;241m=\u001b[39m(\u001b[38;5;241m16\u001b[39m,\u001b[38;5;241m5\u001b[39m))\n",
      "\u001b[1;31mModuleNotFoundError\u001b[0m: No module named 'statsmodels'"
     ]
    }
   ],
   "source": [
    "from pandas import read_csv\n",
    "from matplotlib import pyplot as plt\n",
    "from statsmodels.tsa.seasonal import seasonal_decompose\n",
    "result = seasonal_decompose(dummyDate[\"LTE_RRC_SETUP_ATT_4G_ERICSSON4G\"], model='multiplicative')\n",
    "plt.figure(figsize=(16,5))\n",
    "result.plot()\n",
    "plt.show()"
   ]
  },
  {
   "cell_type": "code",
   "execution_count": null,
   "id": "7146903f-ec3e-4f7a-8760-418221641078",
   "metadata": {},
   "outputs": [],
   "source": []
  }
 ],
 "metadata": {
  "kernelspec": {
   "display_name": "Python 3 (ipykernel)",
   "language": "python",
   "name": "python3"
  },
  "language_info": {
   "codemirror_mode": {
    "name": "ipython",
    "version": 3
   },
   "file_extension": ".py",
   "mimetype": "text/x-python",
   "name": "python",
   "nbconvert_exporter": "python",
   "pygments_lexer": "ipython3",
   "version": "3.11.6"
  }
 },
 "nbformat": 4,
 "nbformat_minor": 5
}
